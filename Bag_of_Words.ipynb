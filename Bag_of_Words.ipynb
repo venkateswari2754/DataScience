{
  "nbformat": 4,
  "nbformat_minor": 0,
  "metadata": {
    "colab": {
      "provenance": []
    },
    "kernelspec": {
      "name": "python3",
      "display_name": "Python 3"
    },
    "language_info": {
      "name": "python"
    }
  },
  "cells": [
    {
      "cell_type": "code",
      "execution_count": 2,
      "metadata": {
        "id": "RukAvTimqOSF"
      },
      "outputs": [],
      "source": [
        "from sklearn.feature_extraction.text import CountVectorizer"
      ]
    },
    {
      "cell_type": "code",
      "source": [
        "# Sample text data\n",
        "text_data = [\n",
        "    \"NLP stands for Natural Language Processing which is a part of Computer Science Human language and Artificial Intelligence\",\n",
        "    \"Natural language processing is a fascinating field\",\n",
        "    \"It is the technology that is used by machines to understand, analyse, manipulate, and interpret human's languages\",\n",
        "]"
      ],
      "metadata": {
        "id": "yos4GMK5qvGM"
      },
      "execution_count": 3,
      "outputs": []
    },
    {
      "cell_type": "code",
      "source": [
        "victorizer= CountVectorizer()\n",
        "# Fit and transform the text data to a sparse matrix of word counts\n",
        "bow_matrix = victorizer.fit_transform(text_data)\n",
        "# Convert the sparse matrix to a dense array for visualization (optional)\n",
        "dense_bow_matrix = bow_matrix.toarray()\n",
        "# Get the feature names (i.e., unique words)\n",
        "feature_names = victorizer.get_feature_names_out()\n",
        "print(\"dense_bow_matrix\",dense_bow_matrix)\n",
        "print(\"feature_names\",feature_names)"
      ],
      "metadata": {
        "colab": {
          "base_uri": "https://localhost:8080/"
        },
        "id": "fXzFFJh3rl8z",
        "outputId": "3beb3bb0-f076-48fa-d4af-0af945bfb688"
      },
      "execution_count": 4,
      "outputs": [
        {
          "output_type": "stream",
          "name": "stdout",
          "text": [
            "dense_bow_matrix [[0 1 1 0 1 0 0 1 1 1 0 1 0 2 0 0 0 1 1 1 1 1 1 1 0 0 0 0 0 0 1]\n",
            " [0 0 0 0 0 1 1 0 0 0 0 1 0 1 0 0 0 1 0 0 0 1 0 0 0 0 0 0 0 0 0]\n",
            " [1 1 0 1 0 0 0 0 1 0 1 2 1 0 1 1 1 0 0 0 0 0 0 0 1 1 1 1 1 1 0]]\n",
            "feature_names ['analyse' 'and' 'artificial' 'by' 'computer' 'fascinating' 'field' 'for'\n",
            " 'human' 'intelligence' 'interpret' 'is' 'it' 'language' 'languages'\n",
            " 'machines' 'manipulate' 'natural' 'nlp' 'of' 'part' 'processing'\n",
            " 'science' 'stands' 'technology' 'that' 'the' 'to' 'understand' 'used'\n",
            " 'which']\n"
          ]
        }
      ]
    }
  ]
}